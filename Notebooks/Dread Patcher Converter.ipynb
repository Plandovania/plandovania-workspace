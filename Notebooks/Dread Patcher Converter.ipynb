{
 "cells": [
  {
   "cell_type": "code",
   "execution_count": 2,
   "metadata": {},
   "outputs": [],
   "source": [
    "import json\n",
    "from pathlib import Path\n",
    "\n",
    "def convert_file(file_path: str):\n",
    "\twith Path(file_path).open(encoding=\"utf-8\") as json_file:\n",
    "\t\tdata = json.load(json_file)\n",
    "\n",
    "\tfor pickup in data[\"pickups\"]:\n",
    "\t\tresources = pickup[\"resources\"]\n",
    "\t\tpickup[\"resources\"] = [\n",
    "\t\t\t[resource]\n",
    "\t\t\tfor resource in resources\n",
    "\t\t]\n",
    "\n",
    "\twith Path(file_path).open(\"w\", encoding=\"utf-8\") as json_file:\n",
    "\t\tjson.dump(data, json_file, indent=\" \"*4)"
   ]
  },
  {
   "cell_type": "code",
   "execution_count": 2,
   "metadata": {},
   "outputs": [],
   "source": [
    "convert_file(r\"C:\\\\Development\\\\Projects\\\\NintendoSwitch\\\\open-dread-rando\\\\tests\\\\test_files\\\\starter_preset_patcher.json\")"
   ]
  },
  {
   "cell_type": "code",
   "execution_count": 3,
   "metadata": {},
   "outputs": [],
   "source": [
    "convert_file(r\"C:\\\\Development\\\\Projects\\\\NintendoSwitch\\\\randovania\\\\test\\\\test_files\\\\patcher_data\\\\dread\\\\custom_start.json\")\n",
    "convert_file(r\"C:\\\\Development\\\\Projects\\\\NintendoSwitch\\\\randovania\\\\test\\\\test_files\\\\patcher_data\\\\dread\\\\starter_preset.json\")"
   ]
  }
 ],
 "metadata": {
  "kernelspec": {
   "display_name": "venv",
   "language": "python",
   "name": "python3"
  },
  "language_info": {
   "codemirror_mode": {
    "name": "ipython",
    "version": 3
   },
   "file_extension": ".py",
   "mimetype": "text/x-python",
   "name": "python",
   "nbconvert_exporter": "python",
   "pygments_lexer": "ipython3",
   "version": "3.11.3"
  },
  "orig_nbformat": 4
 },
 "nbformat": 4,
 "nbformat_minor": 2
}
