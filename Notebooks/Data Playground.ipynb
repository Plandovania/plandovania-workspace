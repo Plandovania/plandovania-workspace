{
 "cells": [
  {
   "attachments": {},
   "cell_type": "markdown",
   "metadata": {},
   "source": [
    "## Dread/Randovania Data Playground\n",
    "\n",
    "Common imports/defs"
   ]
  },
  {
   "cell_type": "code",
   "execution_count": 1,
   "metadata": {},
   "outputs": [],
   "source": [
    "import json\n",
    "from pathlib import Path\n",
    "from mercury_engine_data_structures.game_check import Game\n",
    "from mercury_engine_data_structures.formats import Bmsad, Pkg\n",
    "\n",
    "def dump_bmsad(bmsad: Bmsad, do_print: bool = True) -> str:\n",
    "\tactordef_json = json.dumps(bmsad.raw, indent=\"\\t\", default=lambda o: f\"<<non-serializable: {type(o).__qualname__}>>\")\n",
    "\n",
    "\tif do_print:\n",
    "\t\tprint(actordef_json)\n",
    "\n",
    "\treturn actordef_json\n",
    "\n",
    "def dump_bmsad_file(path_str: str, out_path: str = None):\n",
    "\tfile_path = Path(path_str)\n",
    "\tfile_data = file_path.read_bytes()\n",
    "\tactordef = Bmsad.parse(file_data, Game.DREAD)\n",
    "\tactordef_json = dump_bmsad(actordef, do_print=False)\n",
    "\tnew_path: str\n",
    "\n",
    "\tif out_path is None:\n",
    "\t\trelative_path = file_path.relative_to(r\"D:\\\\Switch Homebrew & Hacking\\\\Games\\\\Metroid Dread\\\\Extracted\\\\Packages_2.1.0\\\\packs\")\n",
    "\t\tnew_relative_path = relative_path.with_suffix(\".bmsad.json\")\n",
    "\t\tnew_path = Path(\"D:\\\\Switch Homebrew & Hacking\\\\Games\\\\Metroid Dread\\\\Extracted\\\\Assets\").joinpath(new_relative_path)\n",
    "\telse:\n",
    "\t\tnew_path = Path(out_path)\n",
    "\n",
    "\tnew_path.parent.mkdir(parents=True, exist_ok=True)\n",
    "\n",
    "\twith new_path.open(\"wt\") as f:\n",
    "\t\tf.write(actordef_json)\n",
    "\t\tf.flush()\n",
    "\t"
   ]
  },
  {
   "attachments": {},
   "cell_type": "markdown",
   "metadata": {},
   "source": [
    "Misc. Individual Dumps"
   ]
  },
  {
   "cell_type": "code",
   "execution_count": null,
   "metadata": {},
   "outputs": [],
   "source": [
    "dump_bmsad_file(r\"D:\\\\Switch Homebrew & Hacking\\\\Games\\\\Metroid Dread\\\\Extracted\\\\Packages_2.1.0\\\\packs\\\\maps\\\\s050_forest\\\\s050_forest\\\\actors\\\\props\\\\door_shield_plasma\\\\charclasses\\\\door_shield_plasma.bmsad\")"
   ]
  },
  {
   "cell_type": "code",
   "execution_count": null,
   "metadata": {},
   "outputs": [],
   "source": [
    "dump_bmsad_file(\n",
    "    r\"C:\\\\Users\\\\Arcanox\\\\AppData\\\\Roaming\\\\Ryujinx\\\\mods\\\\contents\\\\010093801237c000\\\\DreadRandovania\\\\romfs\\\\actors\\\\characters\\\\chozocommander\\\\charclasses\\\\chozocommander.bmsad\",\n",
    "    r\"C:\\\\Users\\\\Arcanox\\\\AppData\\\\Roaming\\\\Ryujinx\\\\mods\\\\contents\\\\010093801237c000\\\\DreadRandovania\\\\romfs\\\\actors\\\\characters\\\\chozocommander\\\\charclasses\\\\chozocommander.bmsad.json\"\n",
    ")"
   ]
  },
  {
   "cell_type": "code",
   "execution_count": null,
   "metadata": {},
   "outputs": [],
   "source": [
    "dump_bmsad_file(r\"D:\\\\Switch Homebrew & Hacking\\\\Games\\\\Metroid Dread\\\\Extracted\\\\Packages_2.1.0\\\\packs\\\\maps\\\\s070_basesanc\\\\s070_basesanc\\\\actors\\\\props\\\\doorwavebeam\\\\charclasses\\\\doorwavebeam.bmsad\")"
   ]
  },
  {
   "cell_type": "code",
   "execution_count": null,
   "metadata": {},
   "outputs": [],
   "source": [
    "pkg_path = Path(r\"C:\\\\Users\\\\Arcanox\\\\AppData\\\\Roaming\\\\yuzu\\\\load\\\\010093801237C000\\\\DreadRandovania\\\\romfs\\\\packs\\\\maps\\\\s050_forest\\\\s050_forest.pkg\")\n",
    "\n",
    "with pkg_path.open(\"rb\") as f:\n",
    "\tpkg = Pkg.parse_stream(f, Game.DREAD)\n",
    "\n",
    "asset = pkg.get_asset(\"actors/props/door_shield_plasma/charclasses/door_shield_plasma.bmsad\")\n",
    "modified_bmsad = Bmsad.parse(asset, Game.DREAD)\n",
    "\n",
    "dump_bmsad(modified_bmsad)"
   ]
  },
  {
   "attachments": {},
   "cell_type": "markdown",
   "metadata": {},
   "source": [
    "Recursively dump all BMSADs in exported ROMFS"
   ]
  },
  {
   "cell_type": "code",
   "execution_count": null,
   "metadata": {},
   "outputs": [],
   "source": [
    "pkgs_path = Path(r\"D:\\\\Switch Homebrew & Hacking\\\\Games\\\\Metroid Dread\\\\Extracted\\\\Packages_2.1.0\\\\packs\")\n",
    "\n",
    "for bmsad_path in pkgs_path.glob(\"**/*.bmsad\"):\n",
    "\ttry:\n",
    "\t\tdump_bmsad_file(bmsad_path)\n",
    "\texcept:\n",
    "\t\tprint(f\"Couldn't dump {bmsad_path}\")"
   ]
  },
  {
   "attachments": {},
   "cell_type": "markdown",
   "metadata": {},
   "source": [
    "Dump all BMSADs in Ryujinx mods folder"
   ]
  },
  {
   "cell_type": "code",
   "execution_count": 3,
   "metadata": {},
   "outputs": [],
   "source": [
    "#powerups_path = Path(r\"C:\\\\Users\\\\Arcanox\\\\AppData\\\\Roaming\\\\Ryujinx\\\\mods\\\\contents\\\\010093801237c000\\\\DreadRandovania\\\\romfs\\\\\")\n",
    "# powerups_path = Path(r\"C:\\\\Development\\\\Sandbox\\\\TempBroken\")\n",
    "powerups_path = Path(r\"C:\\\\Development\\\\Sandbox\\\\TempWorking\")\n",
    "\n",
    "for bmsad_path in powerups_path.glob(\"**/*.bmsad\"):\n",
    "\ttry:\n",
    "\t\tout_path = bmsad_path.with_suffix(\".bmsad.json\")\n",
    "\t\tdump_bmsad_file(bmsad_path, out_path)\n",
    "\texcept Exception as e:\n",
    "\t\tprint(f\"Couldn't dump {bmsad_path}:\")\n",
    "\t\tprint(e)"
   ]
  }
 ],
 "metadata": {
  "kernelspec": {
   "display_name": "venv",
   "language": "python",
   "name": "python3"
  },
  "language_info": {
   "codemirror_mode": {
    "name": "ipython",
    "version": 3
   },
   "file_extension": ".py",
   "mimetype": "text/x-python",
   "name": "python",
   "nbconvert_exporter": "python",
   "pygments_lexer": "ipython3",
   "version": "3.11.3"
  },
  "orig_nbformat": 4,
  "vscode": {
   "interpreter": {
    "hash": "252285b0057191203c93610740f68a8a135f27b7cd3864c3a2e5a5e22c51a237"
   }
  }
 },
 "nbformat": 4,
 "nbformat_minor": 2
}
