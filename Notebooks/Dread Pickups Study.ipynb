{
 "cells": [
  {
   "attachments": {},
   "cell_type": "markdown",
   "metadata": {},
   "source": [
    "# Pickup 0: Flash Shift Upgrade\n",
    "\n",
    "### .rdvgame Pickup\n",
    "\n",
    "`\"Charge Beam Room/Pickup (Charge Beam)\"`: `\"Flash Shift Upgrade\"`\n",
    "- ammo_count: `1`\n",
    "- requires_major_item: `false`\n",
    "\n",
    "### patcher.json Pickup\n",
    "\n",
    "Pickup Index: `0`\n",
    "- pickup_type: `\"actor\"`\n",
    "- resources:\n",
    "  - item_id: `\"ITEM_GHOST_AURA\"`\n",
    "  - quantity: `1`\n",
    "\n",
    "### .bmsad Pickup\n",
    "\n",
    "Actordef: `\"randomizer_powerup_0\"`\n",
    "- `\"ITEM_UPGRADE_FLASH_SHIFT_CHAIN\"`\n",
    "- `1.0`\n",
    "\n",
    "Script class: `RandomizerFlashShift`"
   ]
  },
  {
   "attachments": {},
   "cell_type": "markdown",
   "metadata": {},
   "source": [
    "# Pickup 138: Flash Shift Upgrade\n",
    "\n",
    "### .rdvgame Pickup\n",
    "\n",
    "`\"Corpius Arena/Pickup (Phantom Cloak)\"`: `\"Flash Shift Upgrade\"`\n",
    "- ammo_count: `1`\n",
    "- requires_major_item: `false`\n",
    "\n",
    "### patcher.json Pickup\n",
    "\n",
    "Pickup Index: `138`\n",
    "- pickup_type: `\"corpius\"`\n",
    "- callback: `s010_cave.OnCorpiusDeath_CUSTOM`\n",
    "- resources:\n",
    "  - item_id: `\"ITEM_GHOST_AURA\"`\n",
    "  - quantity: `1`\n",
    "\n",
    "### Scenario Pickup\n",
    "\n",
    "Pickup class: `RandomizerProgressiveITEM_GHOST_AURA_1`\n",
    "- actor: `nil`\n",
    "- progression:\n",
    "  - item_id: `\"ITEM_GHOST_AURA\"`\n",
    "  - quantity: `1`"
   ]
  },
  {
   "attachments": {},
   "cell_type": "markdown",
   "metadata": {},
   "source": [
    "# Pickup 138: Power Bomb Tank\n",
    "\n",
    "### .rdvgame Pickup\n",
    "\n",
    "`\"Corpius Arena/Pickup (Phantom Cloak)\"`: `\"Power Bomb Tank\"`\n",
    "- ammo_count: `1`\n",
    "- requires_major_item: `false`\n",
    "\n",
    "### patcher.json Pickup\n",
    "\n",
    "Pickup Index: `138`\n",
    "- pickup_type: `\"corpius\"`\n",
    "- callback: `s010_cave.OnCorpiusDeath_CUSTOM`\n",
    "- resources:\n",
    "  - item_id: `\"ITEM_WEAPON_POWER_BOMB\"`\n",
    "  - quantity: `1`\n",
    "\n",
    "### Scenario Pickup\n",
    "\n",
    "Pickup class: `RandomizerProgressiveITEM_WEAPON_POWER_BOMB_1`\n",
    "- actor: `nil`\n",
    "- progression:\n",
    "  - item_id: `\"ITEM_WEAPON_POWER_BOMB\"`\n",
    "  - quantity: `1`"
   ]
  }
 ],
 "metadata": {
  "kernelspec": {
   "display_name": "venv",
   "language": "python",
   "name": "python3"
  },
  "language_info": {
   "name": "python",
   "version": "3.11.3"
  },
  "orig_nbformat": 4
 },
 "nbformat": 4,
 "nbformat_minor": 2
}
